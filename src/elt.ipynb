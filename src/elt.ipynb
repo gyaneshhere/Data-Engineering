{
 "cells": [
  {
   "cell_type": "code",
   "execution_count": 1,
   "id": "87af07bf-699b-4c86-a7ca-1a0d75c5c00a",
   "metadata": {},
   "outputs": [
    {
     "data": {
      "text/plain": [
       "True"
      ]
     },
     "execution_count": 1,
     "metadata": {},
     "output_type": "execute_result"
    }
   ],
   "source": [
    "from dotenv import load_dotenv\n",
    "load_dotenv()"
   ]
  },
  {
   "cell_type": "code",
   "execution_count": 2,
   "id": "6c030b6d-27f3-46b9-9aef-fc4f133ce7f3",
   "metadata": {},
   "outputs": [],
   "source": [
    "import openai\n",
    "import os"
   ]
  },
  {
   "cell_type": "code",
   "execution_count": 5,
   "id": "f5aa432c",
   "metadata": {},
   "outputs": [],
   "source": [
    "schema_files = os.listdir('../schema')"
   ]
  },
  {
   "cell_type": "code",
   "execution_count": 6,
   "id": "436ea2f6",
   "metadata": {},
   "outputs": [],
   "source": [
    "all_schemas = {}"
   ]
  },
  {
   "cell_type": "code",
   "execution_count": 9,
   "id": "62d62794",
   "metadata": {},
   "outputs": [],
   "source": [
    "for file in schema_files:\n",
    "    opened_file = open('../schema/' + file, 'r')\n",
    "    all_schemas[file] = opened_file.read()"
   ]
  },
  {
   "cell_type": "code",
   "execution_count": 10,
   "id": "4930bc12",
   "metadata": {},
   "outputs": [],
   "source": [
    "system_prompt = \"\"\"You are a data engineer looking to create a slowly-changing dimension table query\"\"\""
   ]
  },
  {
   "cell_type": "code",
   "execution_count": 12,
   "id": "1ce281ad",
   "metadata": {},
   "outputs": [],
   "source": [
    "user_prompt = f\"\"\"Using cumulative table input schema {all_schemas['product.sql']}\n",
    "                    and expected output schema {all_schemas['product_scd_tbl.sql']} \n",
    "                    generate a query to do a slowly-changing dimension \n",
    "                    transformation tracking changes on the dimensions is_active and scoring_class, \n",
    "                    use markdown and SQL for the transformation\n",
    "            \"\"\""
   ]
  },
  {
   "cell_type": "code",
   "execution_count": 13,
   "id": "31df03cd",
   "metadata": {},
   "outputs": [
    {
     "name": "stdout",
     "output_type": "stream",
     "text": [
      "You are a data engineer looking to create a slowly-changing dimension table query\n",
      "Using cumulative table input schema CREATE TABLE product (\n",
      "  Product_ID INT PRIMARY KEY,\n",
      "  Category_Name VARCHAR(50),\n",
      "  Sub_Category_Name VARCHAR(50),\n",
      "  Brand VARCHAR(50),\n",
      "  Feature_Desc VARCHAR(100)\n",
      ")\n",
      "\n",
      "                    and expected output schema create temp table #product_temp\n",
      "select a.Product_ID as Product_ID_New,\n",
      "case when a.Category_Name <> b.Category_Name then ‘-Category_Name’ else ‘’ end ||\n",
      "case when a.Sub_Category_Name <> b.Sub_Category_Name then ‘-Sub_Category_Name’ else ‘’ end ||\n",
      "case when a.Brand <> b.Brand then ‘-Brand’ else ‘’ end ||\n",
      "case when a.Feature_Desc <> b.Feature_Desc then ‘-Feature_Desc’ else ‘’ end as CHANGED_COLUMN_NEW\n",
      "from Dim_Product a join Stg_Product b\n",
      "on a.Product_ID=b.Product_ID and a.current_flag=’Y’\n",
      "where\n",
      "a.Category_Name <> b.Category_Name or\n",
      "a.Sub_Category_Name <> b.Sub_Category_Name or\n",
      "a.Brand <> b.Brand or\n",
      "a.Feature_Desc <> b.Feature_Desc;\n",
      " \n",
      "                    generate a query to do a slowly-changing dimension \n",
      "                    transformation tracking changes on the dimensions is_active and scoring_class, \n",
      "                    use markdown and SQL for the transformation\n",
      "            \n"
     ]
    }
   ],
   "source": [
    "print(system_prompt)\n",
    "print(user_prompt)"
   ]
  },
  {
   "cell_type": "code",
   "execution_count": 14,
   "id": "cd271fdc",
   "metadata": {
    "lines_to_next_cell": 2
   },
   "outputs": [
    {
     "name": "stdout",
     "output_type": "stream",
     "text": [
      "Here is a SQL query to create a slowly-changing dimension table that tracks changes on the dimensions `is_active` and `scoring_class`. \n",
      "\n",
      "First, let's assume that we have a staging table `Stg_Product` with the same schema as `product` table but with additional columns `is_active` and `scoring_class`.\n",
      "\n",
      "```sql\n",
      "CREATE TABLE Stg_Product (\n",
      "  Product_ID INT PRIMARY KEY,\n",
      "  Category_Name VARCHAR(50),\n",
      "  Sub_Category_Name VARCHAR(50),\n",
      "  Brand VARCHAR(50),\n",
      "  Feature_Desc VARCHAR(100),\n",
      "  is_active BOOLEAN,\n",
      "  scoring_class VARCHAR(50)\n",
      ")\n",
      "```\n",
      "\n",
      "Now, we can create a slowly-changing dimension table `Dim_Product` with additional columns `is_active`, `scoring_class`, `current_flag` and `changed_column`.\n",
      "\n",
      "```sql\n",
      "CREATE TABLE Dim_Product (\n",
      "  Product_ID INT,\n",
      "  Category_Name VARCHAR(50),\n",
      "  Sub_Category_Name VARCHAR(50),\n",
      "  Brand VARCHAR(50),\n",
      "  Feature_Desc VARCHAR(100),\n",
      "  is_active BOOLEAN,\n",
      "  scoring_class VARCHAR(50),\n",
      "  current_flag CHAR(1),\n",
      "  changed_column VARCHAR(200)\n",
      ")\n",
      "```\n",
      "\n",
      "The `current_flag` column is used to indicate the current record for each `Product_ID`. The `changed_column` column is used to track which columns have been changed.\n",
      "\n",
      "Now, we can create a query to update the `Dim_Product` table based on the changes in the `Stg_Product` table.\n",
      "\n",
      "```sql\n",
      "INSERT INTO Dim_Product\n",
      "SELECT \n",
      "  a.Product_ID,\n",
      "  b.Category_Name,\n",
      "  b.Sub_Category_Name,\n",
      "  b.Brand,\n",
      "  b.Feature_Desc,\n",
      "  b.is_active,\n",
      "  b.scoring_class,\n",
      "  'Y' as current_flag,\n",
      "  CASE \n",
      "    WHEN a.Category_Name <> b.Category_Name THEN '-Category_Name'\n",
      "    WHEN a.Sub_Category_Name <> b.Sub_Category_Name THEN '-Sub_Category_Name'\n",
      "    WHEN a.Brand <> b.Brand THEN '-Brand'\n",
      "    WHEN a.Feature_Desc <> b.Feature_Desc THEN '-Feature_Desc'\n",
      "    WHEN a.is_active <> b.is_active THEN '-is_active'\n",
      "    WHEN a.scoring_class <> b.scoring_class THEN '-scoring_class'\n",
      "    ELSE ''\n",
      "  END as changed_column\n",
      "FROM \n",
      "  product a \n",
      "JOIN \n",
      "  Stg_Product b \n",
      "ON \n",
      "  a.Product_ID = b.Product_ID \n",
      "WHERE \n",
      "  a.Category_Name <> b.Category_Name OR\n",
      "  a.Sub_Category_Name <> b.Sub_Category_Name OR\n",
      "  a.Brand <> b.Brand OR\n",
      "  a.Feature_Desc <> b.Feature_Desc OR\n",
      "  a.is_active <> b.is_active OR\n",
      "  a.scoring_class <> b.scoring_class;\n",
      "\n",
      "UPDATE Dim_Product\n",
      "SET current_flag = 'N'\n",
      "WHERE Product_ID IN (SELECT Product_ID FROM Stg_Product);\n",
      "```\n",
      "\n",
      "This query first inserts the new records from the `Stg_Product` table into the `Dim_Product` table and marks them as the current records. Then it updates the `current_flag` of the old records to 'N'. The `changed_column` column records which columns have been changed.\n"
     ]
    }
   ],
   "source": [
    "response = openai.chat.completions.create(\n",
    "    model=\"gpt-4\",\n",
    "    messages=[\n",
    "        {\"role\": \"system\", \"content\": system_prompt},\n",
    "        {\"role\": \"user\", \"content\": user_prompt}\n",
    "    ],\n",
    "    temperature=0\n",
    ")\n",
    "print(response.choices[0].message.content)\n",
    "answer = response.choices[0].message.content"
   ]
  },
  {
   "cell_type": "code",
   "execution_count": 15,
   "id": "0bf1fbcd",
   "metadata": {},
   "outputs": [],
   "source": [
    "if not os.path.exists('output'):\n",
    "    os.mkdir('output')"
   ]
  },
  {
   "cell_type": "markdown",
   "id": "1fddc17c",
   "metadata": {},
   "source": [
    "```sql\n",
    "SELECT * FROM table\n",
    "```"
   ]
  },
  {
   "cell_type": "code",
   "execution_count": 16,
   "id": "e8752024",
   "metadata": {},
   "outputs": [],
   "source": [
    "output = filter(lambda x: x.startswith('sql'), answer.split('```'))\n",
    "# Open the file with write permissions\n",
    "with open('output/product_scd_generation.sql', 'w') as file:\n",
    "    # Write some data to the file\n",
    "    file.write('\\n'.join(output))"
   ]
  },
  {
   "cell_type": "code",
   "execution_count": null,
   "id": "4553eb21",
   "metadata": {},
   "outputs": [],
   "source": []
  }
 ],
 "metadata": {
  "jupytext": {
   "cell_metadata_filter": "-all",
   "main_language": "python",
   "notebook_metadata_filter": "-all"
  },
  "kernelspec": {
   "display_name": "Python 3 (ipykernel)",
   "language": "python",
   "name": "python3"
  },
  "language_info": {
   "codemirror_mode": {
    "name": "ipython",
    "version": 3
   },
   "file_extension": ".py",
   "mimetype": "text/x-python",
   "name": "python",
   "nbconvert_exporter": "python",
   "pygments_lexer": "ipython3",
   "version": "3.12.4"
  }
 },
 "nbformat": 4,
 "nbformat_minor": 5
}
